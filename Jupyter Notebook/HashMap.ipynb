{
 "cells": [
  {
   "cell_type": "code",
   "execution_count": 1,
   "id": "31a0150c",
   "metadata": {},
   "outputs": [],
   "source": [
    "class Hash:\n",
    "    def __init__(self):\n",
    "        self.max = 10\n",
    "        self.arr = [[] for i in range(self.max)]\n",
    "    \n",
    "    def hashKey(self, key):\n",
    "        h = 0\n",
    "        for char in key:\n",
    "            h += ord(char)\n",
    "        return h % self.max\n",
    "\n",
    "    def __setitem__(self, key, val):\n",
    "        h = self.hashKey(key)\n",
    "        found = False\n",
    "        for i, element in enumerate(self.arr[h]):\n",
    "            if len(element) == 2 and element[0] == key:\n",
    "                self.arr[h][i] = (key, val)\n",
    "                found = True\n",
    "        if not found:\n",
    "            self.arr[h].append((key, val))\n",
    "\n",
    "    def __getitem__(self, key):\n",
    "        h = self.hashKey(key)\n",
    "        for element in self.arr[h]:\n",
    "            if element[0] == key:\n",
    "                return element[1]\n",
    "\n",
    "    def __delitem__(self, key):\n",
    "        h = self.hashKey(key)\n",
    "        for i, element in enumerate(self.arr[h]):\n",
    "            if element[0] == key:\n",
    "                del self.arr[h][i]"
   ]
  },
  {
   "cell_type": "code",
   "execution_count": 3,
   "id": "4ce1fd38",
   "metadata": {},
   "outputs": [
    {
     "data": {
      "text/plain": [
       "234"
      ]
     },
     "execution_count": 3,
     "metadata": {},
     "output_type": "execute_result"
    }
   ],
   "source": [
    "t = Hash()\n",
    "t['january 12'] = 889\n",
    "t['march 6'] = 234\n",
    "t['march 17'] = 381\n",
    "\n",
    "t['march 6']"
   ]
  },
  {
   "cell_type": "code",
   "execution_count": null,
   "id": "83e9f238",
   "metadata": {},
   "outputs": [],
   "source": []
  }
 ],
 "metadata": {
  "kernelspec": {
   "display_name": "Python 3 (ipykernel)",
   "language": "python",
   "name": "python3"
  },
  "language_info": {
   "codemirror_mode": {
    "name": "ipython",
    "version": 3
   },
   "file_extension": ".py",
   "mimetype": "text/x-python",
   "name": "python",
   "nbconvert_exporter": "python",
   "pygments_lexer": "ipython3",
   "version": "3.9.13"
  }
 },
 "nbformat": 4,
 "nbformat_minor": 5
}
